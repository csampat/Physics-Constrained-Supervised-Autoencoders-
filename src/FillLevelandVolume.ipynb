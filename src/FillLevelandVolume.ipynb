{
 "metadata": {
  "language_info": {
   "codemirror_mode": {
    "name": "ipython",
    "version": 3
   },
   "file_extension": ".py",
   "mimetype": "text/x-python",
   "name": "python",
   "nbconvert_exporter": "python",
   "pygments_lexer": "ipython3",
   "version": "3.7.6-final"
  },
  "orig_nbformat": 2,
  "kernelspec": {
   "name": "Python 3.7.6 64-bit ('base': conda)",
   "display_name": "Python 3.7.6 64-bit ('base': conda)",
   "metadata": {
    "interpreter": {
     "hash": "932d5c0532455ea8219d16ac8bdb22014ae58848b5f2a6ff014ae8dc7ab49aa9"
    }
   }
  }
 },
 "nbformat": 4,
 "nbformat_minor": 2,
 "cells": [
  {
   "cell_type": "code",
   "execution_count": 6,
   "metadata": {},
   "outputs": [],
   "source": [
    "import numpy as np\n",
    "import pandas as pd\n",
    "\n",
    "dataFile = pd.read_csv('pca_test_dhenge2kumar1.csv')\n",
    "expNames = dataFile['Experiments']\n",
    "dataFile_edit = dataFile.drop(['Sr No','Screw Configuration','Experiments','Liq add position'],axis=1)\n",
    "\n",
    "munDim = {\n",
    "    \"OD\" : 16,\n",
    "    \"L/D\": 25,\n",
    "    \"Ae\" : 23.56,\n",
    "    \"Ls\" : 3,\n",
    "    \"As\" : 34.37,\n",
    "    \"Ll\" : 10,\n",
    "    \"Tdpm\" : 1.18,\n",
    "    \"Bdpm\" : 0.65,\n",
    "    \"Tdlm\" : 1.52,\n",
    "    \"Bdlm\" : 0.57,\n",
    "    \"Lspce\" : 1,\n",
    "    \"Ac\" : 201,\n",
    "    \"Vspce\" : 1,\n",
    "    \"Vlpce\" : 2,\n",
    "    \"Vke\" : 0.3,\n",
    "    \"Vice\" : 0.75,\n",
    "}\n"
   ]
  },
  {
   "cell_type": "code",
   "execution_count": 7,
   "metadata": {},
   "outputs": [
    {
     "output_type": "stream",
     "name": "stdout",
     "text": [
      "400\n"
     ]
    }
   ],
   "source": [
    "l_total_mun = munDim[\"OD\"]*munDim[\"L/D\"]\n",
    "print(l_total_mun)"
   ]
  },
  {
   "cell_type": "code",
   "execution_count": 8,
   "metadata": {},
   "outputs": [
    {
     "output_type": "stream",
     "name": "stdout",
     "text": [
      "126595.76000000001\n[0.01810998 0.01295206 0.00775745]\n"
     ]
    }
   ],
   "source": [
    "l_eff_mun = l_total_mun-2*16*munDim[\"Lspce\"]\n",
    "At_mun = 2 * munDim[\"Ac\"] - munDim[\"Ae\"]\n",
    "v_max_mun = l_eff_mun*At_mun\n",
    "v_shaft_mun = (l_eff_mun*munDim[\"As\"])\n",
    "v_elem_mun_sc3 = (2*munDim[\"Vlpce\"]+18*munDim[\"Vspce\"])\n",
    "v_free_mun_sc3 = v_max_mun - v_shaft_mun - v_elem_mun_sc3\n",
    "print(v_free_mun_sc3)\n",
    "mfr = np.array([2.19,6,6.61]) / 3600 # flow rate kg/s\n",
    "rho_bulk = 500\n",
    "D=np.array([0.011,0.016,0.024])\n",
    "rpm = np.array([482,600,327])*np.pi/30 # convert rpm to radians per second \n",
    "denom = rho_bulk*np.multiply(rpm,np.power(D,3))\n",
    "pfn = np.divide(mfr,denom) \n",
    "print(pfn)"
   ]
  },
  {
   "cell_type": "code",
   "execution_count": 9,
   "metadata": {},
   "outputs": [
    {
     "output_type": "stream",
     "name": "stdout",
     "text": [
      "[1.11357812e-05 2.35600000e-05 5.30100000e-05]\n"
     ]
    }
   ],
   "source": [
    "ae_16 = munDim[\"Ae\"]\n",
    "ae_16_sqrt = np.sqrt(ae_16)\n",
    "ae_11_scaled = ae_16_sqrt * 11 / 16\n",
    "ae_24_scaled = ae_16_sqrt * 24 / 16\n",
    "ae_11 = ae_11_scaled ** 2\n",
    "ae_24 = ae_24_scaled ** 2\n",
    "ae_array = np.array([ae_11,ae_16,ae_24]) / 1e6\n",
    "print(ae_array) "
   ]
  },
  {
   "cell_type": "code",
   "execution_count": 10,
   "metadata": {},
   "outputs": [
    {
     "output_type": "stream",
     "name": "stdout",
     "text": [
      "[0.09203125 0.09203125 0.09203125]\n[[1. 1. 1.]]\n[0.01684211 0.01828571 0.032     ]\n[0.13103298 0.11428571 0.36697248]\n[[1.50176497 1.23143548 0.22969421]]\n"
     ]
    }
   ],
   "source": [
    "F1 = np.divide(ae_array,np.power(D,2))\n",
    "print(F1)\n",
    "F2 = np.ones((1,len(F1)))\n",
    "print(F2)\n",
    "mrt = [38,35,20]\n",
    "vp = np.divide(16*.04,mrt)\n",
    "print(vp)\n",
    "F3num = 2*np.pi*vp\n",
    "F3dem = rpm*0.016\n",
    "F3 = np.divide(F3num,F3dem)\n",
    "print(F3)\n",
    "fill = np.divide(pfn,np.multiply(F1,np.multiply(F2,F3)))\n",
    "print(fill)"
   ]
  }
 ]
}