{
 "metadata": {
  "language_info": {
   "codemirror_mode": {
    "name": "ipython",
    "version": 3
   },
   "file_extension": ".py",
   "mimetype": "text/x-python",
   "name": "python",
   "nbconvert_exporter": "python",
   "pygments_lexer": "ipython3",
   "version": "3.7.6-final"
  },
  "orig_nbformat": 2,
  "kernelspec": {
   "name": "python3",
   "display_name": "Python 3",
   "language": "python"
  }
 },
 "nbformat": 4,
 "nbformat_minor": 2,
 "cells": [
  {
   "cell_type": "code",
   "execution_count": 3,
   "metadata": {},
   "outputs": [
    {
     "output_type": "error",
     "ename": "AttributeError",
     "evalue": "module 'matplotlib.rcsetup' has no attribute '_validators'",
     "traceback": [
      "\u001b[1;31m---------------------------------------------------------------------------\u001b[0m",
      "\u001b[1;31mAttributeError\u001b[0m                            Traceback (most recent call last)",
      "\u001b[1;32m<ipython-input-3-4c2bd0e501f6>\u001b[0m in \u001b[0;36m<module>\u001b[1;34m\u001b[0m\n\u001b[0;32m      1\u001b[0m \u001b[1;32mimport\u001b[0m \u001b[0mpandas\u001b[0m \u001b[1;32mas\u001b[0m \u001b[0mpd\u001b[0m\u001b[1;33m\u001b[0m\u001b[1;33m\u001b[0m\u001b[0m\n\u001b[0;32m      2\u001b[0m \u001b[1;32mimport\u001b[0m \u001b[0mnumpy\u001b[0m \u001b[1;32mas\u001b[0m \u001b[0mnp\u001b[0m\u001b[1;33m\u001b[0m\u001b[1;33m\u001b[0m\u001b[0m\n\u001b[1;32m----> 3\u001b[1;33m \u001b[1;32mimport\u001b[0m \u001b[0mmatplotlib\u001b[0m\u001b[1;33m.\u001b[0m\u001b[0mpyplot\u001b[0m \u001b[1;32mas\u001b[0m \u001b[0mplt\u001b[0m\u001b[1;33m\u001b[0m\u001b[1;33m\u001b[0m\u001b[0m\n\u001b[0m\u001b[0;32m      4\u001b[0m \u001b[1;33m\u001b[0m\u001b[0m\n\u001b[0;32m      5\u001b[0m \u001b[0mdatafile\u001b[0m \u001b[1;33m=\u001b[0m \u001b[0mpd\u001b[0m\u001b[1;33m.\u001b[0m\u001b[0mread_csv\u001b[0m\u001b[1;33m(\u001b[0m\u001b[1;34m'dataFiles/test_data1_WithOutputs_withCalculatedValues.csv'\u001b[0m\u001b[1;33m)\u001b[0m\u001b[1;33m\u001b[0m\u001b[1;33m\u001b[0m\u001b[0m\n",
      "\u001b[1;32m~\\Anaconda3\\lib\\site-packages\\matplotlib\\__init__.py\u001b[0m in \u001b[0;36m<module>\u001b[1;34m\u001b[0m\n\u001b[0;32m    635\u001b[0m \u001b[1;33m\u001b[0m\u001b[0m\n\u001b[0;32m    636\u001b[0m \u001b[1;33m\u001b[0m\u001b[0m\n\u001b[1;32m--> 637\u001b[1;33m \u001b[1;32mclass\u001b[0m \u001b[0mRcParams\u001b[0m\u001b[1;33m(\u001b[0m\u001b[0mMutableMapping\u001b[0m\u001b[1;33m,\u001b[0m \u001b[0mdict\u001b[0m\u001b[1;33m)\u001b[0m\u001b[1;33m:\u001b[0m\u001b[1;33m\u001b[0m\u001b[1;33m\u001b[0m\u001b[0m\n\u001b[0m\u001b[0;32m    638\u001b[0m     \"\"\"\n\u001b[0;32m    639\u001b[0m     \u001b[0mA\u001b[0m \u001b[0mdictionary\u001b[0m \u001b[0mobject\u001b[0m \u001b[0mincluding\u001b[0m \u001b[0mvalidation\u001b[0m\u001b[1;33m.\u001b[0m\u001b[1;33m\u001b[0m\u001b[1;33m\u001b[0m\u001b[0m\n",
      "\u001b[1;32m~\\Anaconda3\\lib\\site-packages\\matplotlib\\__init__.py\u001b[0m in \u001b[0;36mRcParams\u001b[1;34m()\u001b[0m\n\u001b[0;32m    647\u001b[0m     \"\"\"\n\u001b[0;32m    648\u001b[0m \u001b[1;33m\u001b[0m\u001b[0m\n\u001b[1;32m--> 649\u001b[1;33m     \u001b[0mvalidate\u001b[0m \u001b[1;33m=\u001b[0m \u001b[0mrcsetup\u001b[0m\u001b[1;33m.\u001b[0m\u001b[0m_validators\u001b[0m\u001b[1;33m\u001b[0m\u001b[1;33m\u001b[0m\u001b[0m\n\u001b[0m\u001b[0;32m    650\u001b[0m \u001b[1;33m\u001b[0m\u001b[0m\n\u001b[0;32m    651\u001b[0m     \u001b[1;31m# validate values on the way in\u001b[0m\u001b[1;33m\u001b[0m\u001b[1;33m\u001b[0m\u001b[1;33m\u001b[0m\u001b[0m\n",
      "\u001b[1;31mAttributeError\u001b[0m: module 'matplotlib.rcsetup' has no attribute '_validators'"
     ]
    }
   ],
   "source": [
    "import pandas as pd\n",
    "import numpy as np\n",
    "import matplotlib.pyplot as plt\n",
    "\n",
    "datafile = pd.read_csv('dataFiles/test_data1_WithOutputs_withCalculatedValues.csv')\n",
    "torque = np.array(datafile[\"DetTorque\"])\n",
    "mrtDET = np.array(datafile[\"DetMRT\"])\n",
    "fill_level = np.array(datafile[\"Calc Fill level\"])\n",
    "exp = np.array(datafile[\"Experiments\"])\n",
    "lsratio = np.array(datafile[\"L/S Ratio\"])\n",
    "feedrate = np.array(datafile[\"FlowRate (kg/hr)\"])\n",
    "rpm = np.array(datafile[\"RPM (1/s)\"])\n",
    "omega = rpm * np.pi / 30\n",
    "fig,ax = plt.subplots()\n",
    "for g in np.unique(exp):\n",
    "    i = np.where(exp==g)\n",
    "    ax.scatter(fill_level[i],torque[i],label=g)\n",
    "plt.xlabel('Fill level')\n",
    "plt.ylabel('Torque (N/m^2)')\n",
    "plt.xlim(0,1)\n",
    "ax.legend()"
   ]
  },
  {
   "cell_type": "code",
   "execution_count": null,
   "metadata": {},
   "outputs": [],
   "source": [
    "fig,ax = plt.subplots()\n",
    "for g in np.unique(lsratio):\n",
    "    i = np.where(lsratio==g)\n",
    "    ax.scatter(fill_level[i],torque[i],label=g)\n",
    "plt.xlabel('Fill level')\n",
    "plt.ylabel('Torque (N/m^2)')\n",
    "plt.xlim(0,1)\n",
    "ax.legend()"
   ]
  },
  {
   "cell_type": "code",
   "execution_count": null,
   "metadata": {},
   "outputs": [],
   "source": [
    "sme = np.divide(np.multiply(torque,omega),feedrate)\n",
    "fig,ax = plt.subplots()\n",
    "for g in np.unique(lsratio):\n",
    "    i = np.where(lsratio==g)\n",
    "    ax.scatter(fill_level[i],sme[i],label=g)\n",
    "plt.xlabel('Fill level')\n",
    "plt.ylabel('SME (kJ/kg)')\n",
    "plt.xlim(0,1)\n",
    "ax.legend()"
   ]
  },
  {
   "cell_type": "code",
   "execution_count": null,
   "metadata": {},
   "outputs": [],
   "source": [
    "plt.figure()\n",
    "plt.scatter(lsratio,fill_level)\n",
    "plt.xlabel('L/S Ratio')\n",
    "plt.ylabel('Fill level')"
   ]
  },
  {
   "cell_type": "code",
   "execution_count": null,
   "metadata": {},
   "outputs": [],
   "source": [
    "plt.figure()\n",
    "plt.scatter(lsratio,sme)\n",
    "plt.xlabel('L/S Ratio')\n",
    "plt.ylabel('SME (kJ/kg)')"
   ]
  },
  {
   "cell_type": "code",
   "execution_count": null,
   "metadata": {},
   "outputs": [],
   "source": [
    "from mpl_toolkits.mplot3d import axes3d\n",
    "from IPython import get_ipython\n",
    "# get_ipython().run_line_magic('matplotlib', 'qt')\n",
    "ax = plt.axes(projection='3d')\n",
    "ax.scatter3D(lsratio, fill_level,sme)\n",
    "ax.set_xlabel('L/S Ratio')\n",
    "ax.set_ylabel('Fill level')\n",
    "ax.set_zlabel('SME (kJ/kg)')\n",
    "# plt.show()"
   ]
  },
  {
   "cell_type": "code",
   "execution_count": null,
   "metadata": {},
   "outputs": [],
   "source": [
    "fig,ax = plt.subplots()\n",
    "for g in np.unique(exp):\n",
    "    i = np.where(exp==g)\n",
    "    ax.scatter(fill_level[i],mrtDET[i],label=g)\n",
    "plt.xlabel('Fill level')\n",
    "plt.ylabel('MRT')\n",
    "plt.xlim(0,1)\n",
    "ax.legend(bbox_to_anchor=(0., 1.02, 1., .102), loc='lower left',\n",
    "           ncol=2, mode=\"expand\", borderaxespad=0.)"
   ]
  },
  {
   "cell_type": "code",
   "execution_count": null,
   "metadata": {},
   "outputs": [],
   "source": [
    "fig,ax = plt.subplots()\n",
    "vis = np.array(datafile['Binder Viscosity (mPa.s)']) / 0.001\n",
    "for g in np.unique(exp):\n",
    "    i = np.where(exp==g)\n",
    "    ax.scatter(lsratio[i]*vis[i],fill_level[i],label=g)\n",
    "plt.xlabel('L/S Ratio x relative Viscosity')\n",
    "plt.ylabel('Fill level')\n",
    "plt.ylim(0,1)\n",
    "plt.ylim([1e-4,1])\n",
    "plt.xscale(\"log\")\n",
    "plt.xlim([1e-1,1000])\n",
    "plt.xticks([1e-1,1e0,1e1,1e2])\n",
    "ax.legend(bbox_to_anchor=(0., 1.02, 1., .102), loc='lower left',\n",
    "           ncol=2, mode=\"expand\", borderaxespad=0.)"
   ]
  },
  {
   "cell_type": "code",
   "execution_count": null,
   "metadata": {},
   "outputs": [],
   "source": [
    "fig,ax = plt.subplots()\n",
    "vis = np.array(datafile['Binder Viscosity (mPa.s)']) / 0.001\n",
    "extent = np.array(datafile['Extent of gran'])\n",
    "ranges = [0,15,20,25,30,35,50]\n",
    "groups = datafile.groupby(pd.cut(datafile['Extent of gran'],ranges))\n",
    "for val, group in groups:\n",
    "        ax.scatter(group['L/S Ratio']*group['Binder Viscosity (mPa.s)'] / 0.001, group['Calc Fill level'],label=val)\n",
    "# ax.scatter(np.multiply(lsratio,vis),fill_level,c=extent,s=150,cmap='YlOrRd')\n",
    "plt.xlabel('L/S Ratio x relative Viscosity')\n",
    "plt.ylabel('Fill level')\n",
    "plt.ylim(0,1)\n",
    "plt.ylim([1e-4,1])\n",
    "plt.xscale(\"log\")\n",
    "plt.xlim([1e-1,1000])\n",
    "plt.xticks([1e-1,1e0,1e1,1e2])\n",
    "plt.legend()\n",
    "# ax.legend(bbox_to_anchor=(0., 1.02, 1., .102), loc='lower left',\n",
    "#            ncol=2, mode=\"expand\", borderaxespad=0.)"
   ]
  },
  {
   "cell_type": "code",
   "execution_count": null,
   "metadata": {},
   "outputs": [],
   "source": [
    "vis = np.array(datafile['Binder Viscosity (mPa.s)']) / 0.001\n",
    "extent = np.array(datafile['Extent of gran'])\n",
    "ranges = [0,15,20,25,30,35,50]\n",
    "count = 0\n",
    "y = 0\n",
    "for region, df_region in datafile.groupby('Experiments'):\n",
    "    groups = df_region.groupby(pd.cut(df_region['Extent of gran'],ranges))\n",
    "    plt.figure()\n",
    "    plt.title(region)\n",
    "    plt.xlabel('L/S Ratio x relative Viscosity')\n",
    "    plt.ylabel('Fill level')\n",
    "    plt.ylim(0,1)\n",
    "    plt.ylim([1e-4,1])\n",
    "    plt.xscale(\"log\")\n",
    "    plt.xlim([1e-1,1000])\n",
    "    plt.xticks([1e-1,1e0,1e1,1e2])\n",
    "    \n",
    "    for val, group in groups:\n",
    "        plt.scatter(group['L/S Ratio']*group['Binder Viscosity (mPa.s)'] / 0.001, group['Calc Fill level'],label=val)\n",
    "        plt.legend()\n",
    "\n",
    "# ax.scatter(np.multiply(lsratio,vis),fill_level,c=extent,s=150,cmap='YlOrRd')\n"
   ]
  },
  {
   "cell_type": "code",
   "execution_count": null,
   "metadata": {},
   "outputs": [],
   "source": [
    "vis = np.array(datafile['Binder Viscosity (mPa.s)']) / 0.001\n",
    "extent = np.array(datafile['Extent of gran'])\n",
    "ranges = [0,15,20,25,30,35,50]\n",
    "count = 0\n",
    "y = 0\n",
    "for region, df_region in datafile.groupby('Experiments'):\n",
    "    groups = df_region.groupby(df_region['L/S Ratio'])\n",
    "    plt.figure()\n",
    "    plt.title(region)\n",
    "    plt.xlabel('L/S Ratio x relative Viscosity')\n",
    "    plt.ylabel('Fill level')\n",
    "    plt.ylim(0,1)\n",
    "    plt.ylim([1e-4,1])\n",
    "    plt.xscale(\"log\")\n",
    "    plt.xlim([1e-1,1000])\n",
    "    plt.xticks([1e-1,1e0,1e1,1e2])\n",
    "    \n",
    "    for val, group in groups:\n",
    "        plt.scatter(group['L/S Ratio']*group['Binder Viscosity (mPa.s)'] / 0.001, group['Calc Fill level'],label=val)\n",
    "        plt.legend()"
   ]
  },
  {
   "cell_type": "code",
   "execution_count": null,
   "metadata": {},
   "outputs": [],
   "source": [
    "fig,ax = plt.subplots()\n",
    "vis = np.array(datafile['Binder Viscosity (mPa.s)']) / 0.001\n",
    "for g in np.unique(lsratio):\n",
    "    i = np.where(lsratio==g)\n",
    "    ax.scatter(lsratio[i]*vis[i],fill_level[i],label=g)\n",
    "plt.xlabel('L/S Ratio x relative Viscosity')\n",
    "plt.ylabel('Fill level')\n",
    "plt.ylim(0,1)\n",
    "plt.ylim([1e-4,1])\n",
    "plt.xscale(\"log\")\n",
    "plt.xlim([1e-1,1000])\n",
    "plt.xticks([1e-1,1e0,1e1,1e2])\n",
    "ax.legend(bbox_to_anchor=(0., 1.02, 1., .102), loc='lower left',\n",
    "           ncol=2, mode=\"expand\", borderaxespad=0.)"
   ]
  },
  {
   "cell_type": "code",
   "execution_count": null,
   "metadata": {},
   "outputs": [],
   "source": [
    "fig,ax = plt.subplots()\n",
    "vis = np.array(datafile['Binder Viscosity (mPa.s)']) / 0.001\n",
    "nKe = np.array(datafile['n KE'])\n",
    "for g in np.unique(nKe):\n",
    "    i = np.where(nKe==g)\n",
    "    ax.scatter(lsratio[i]*vis[i],fill_level[i],label=g)\n",
    "plt.xlabel('L/S Ratio x relative Viscosity')\n",
    "plt.ylabel('Fill level')\n",
    "plt.ylim(0,1)\n",
    "plt.ylim([1e-4,1])\n",
    "plt.xscale(\"log\")\n",
    "plt.xlim([1e-1,1000])\n",
    "plt.xticks([1e-1,1e0,1e1,1e2])\n",
    "ax.legend(bbox_to_anchor=(0., 1.02, 1., .102), loc='lower left',\n",
    "           ncol=2, mode=\"expand\", borderaxespad=0.)"
   ]
  },
  {
   "cell_type": "code",
   "execution_count": null,
   "metadata": {},
   "outputs": [],
   "source": [
    "vis = np.array(datafile['Binder Viscosity (mPa.s)']) / 0.001\n",
    "extent = np.array(datafile['Extent of gran'])\n",
    "ranges = [0,15,20,25,30,35,50]\n",
    "count = 0\n",
    "y = 0\n",
    "for region, df_region in datafile.groupby('Experiments'):\n",
    "    groups = df_region.groupby(df_region['n KE'])\n",
    "    plt.figure()\n",
    "    plt.title(region)\n",
    "    plt.xlabel('L/S Ratio x relative Viscosity')\n",
    "    plt.ylabel('Fill level')\n",
    "    plt.ylim(0,1)\n",
    "    plt.ylim([1e-4,1])\n",
    "    plt.xscale(\"log\")\n",
    "    plt.xlim([1e-1,1000])\n",
    "    plt.xticks([1e-1,1e0,1e1,1e2])\n",
    "    \n",
    "    for val, group in groups:\n",
    "        plt.scatter(group['L/S Ratio']*group['Binder Viscosity (mPa.s)'] / 0.001, group['Calc Fill level'],label=val)\n",
    "        plt.legend()"
   ]
  },
  {
   "cell_type": "code",
   "execution_count": null,
   "metadata": {},
   "outputs": [],
   "source": [
    "fig,ax = plt.subplots()\n",
    "vis = np.array(datafile['Binder Viscosity (mPa.s)']) / 0.001\n",
    "nKe = np.array(datafile['n KE'])\n",
    "torque = np.array(datafile['DetTorque'])\n",
    "fillVol = np.array(datafile['Calc Fill volume']) / 1e9\n",
    "for g in np.unique(exp):\n",
    "    i = np.where(exp==g)\n",
    "    ax.scatter(lsratio[i]*vis[i],torque[i]/fillVol[i],label=g)\n",
    "plt.xlabel('L/S Ratio x relative Viscosity')\n",
    "plt.ylabel('Torque / Fill Vol')\n",
    "plt.xscale(\"log\")\n",
    "plt.yscale(\"log\")\n",
    "plt.xlim([1e-1,1000])\n",
    "plt.xticks([1e-1,1e0,1e1,1e2])\n",
    "ax.legend(bbox_to_anchor=(0., 1.02, 1., .102), loc='lower left',\n",
    "           ncol=2, mode=\"expand\", borderaxespad=0.)"
   ]
  },
  {
   "cell_type": "code",
   "execution_count": null,
   "metadata": {},
   "outputs": [],
   "source": [
    "\n",
    "fig,ax = plt.subplots()\n",
    "vis = np.array(datafile['Binder Viscosity (mPa.s)']) / 0.001\n",
    "nKe = np.array(datafile['n KE'])\n",
    "torque = np.array(datafile['DetTorque'])\n",
    "fillVol = np.array(datafile['Calc Fill volume']) / 1e9\n",
    "ranges = [0,15,20,25,30,35,50]\n",
    "groups = datafile.groupby(pd.cut(datafile['Extent of gran'],ranges))\n",
    "for val, group in groups:\n",
    "        ax.scatter(group['L/S Ratio']*group['Binder Viscosity (mPa.s)'] / 0.001, group['DetTorque']/(group['Calc Fill volume']/1e9),label=val)\n",
    "plt.xlabel('L/S Ratio x relative Viscosity')\n",
    "plt.ylabel('Torque / Fill Vol')\n",
    "plt.xscale(\"log\")\n",
    "plt.yscale(\"log\")\n",
    "plt.xlim([1e-1,1000])\n",
    "plt.xticks([1e-1,1e0,1e1,1e2])\n",
    "ax.legend(bbox_to_anchor=(0., 1.02, 1., .102), loc='lower left',\n",
    "           ncol=2, mode=\"expand\", borderaxespad=0.)"
   ]
  },
  {
   "cell_type": "code",
   "execution_count": null,
   "metadata": {},
   "outputs": [],
   "source": [
    "fig,ax = plt.subplots()\n",
    "vis = np.array(datafile['Binder Viscosity (mPa.s)']) / 0.001\n",
    "nKe = np.array(datafile['n KE'])\n",
    "torque = np.array(datafile['DetTorque'])\n",
    "fillVol = np.array(datafile['Calc Fill volume']) / 1e9\n",
    "ranges = [0,15,20,25,30,35,50]\n",
    "groups = datafile.groupby(pd.cut(datafile['Extent of gran'],ranges))\n",
    "for val, group in groups:\n",
    "        ax.scatter(group['L/S Ratio']*group['Binder Viscosity (mPa.s)'] / 0.001, group['DetTorque']/(group['Calc Fill level']),label=val)\n",
    "plt.xlabel('L/S Ratio x relative Viscosity')\n",
    "plt.ylabel('Torque / Fill level')\n",
    "plt.xscale(\"log\")\n",
    "plt.yscale(\"log\")\n",
    "plt.xlim([1e-1,1000])\n",
    "plt.xticks([1e-1,1e0,1e1,1e2])\n",
    "ax.legend(bbox_to_anchor=(0., 1.02, 1., .102), loc='lower left',\n",
    "           ncol=2, mode=\"expand\", borderaxespad=0.)"
   ]
  },
  {
   "cell_type": "code",
   "execution_count": null,
   "metadata": {},
   "outputs": [],
   "source": [
    "fig,ax = plt.subplots()\n",
    "vFree = np.array(datafile['Vol free'])\n",
    "vMax = np.array(datafile['Vol max'])\n",
    "rpm = np.array(datafile['RPM (1/s)'])\n",
    "flowRate = np.array(datafile['FlowRate (kg/hr)'])\n",
    "ranges = [0,15,20,25,30,35,50]\n",
    "groups = datafile.groupby(pd.cut(datafile['Extent of gran'],ranges))\n",
    "for val, group in groups:\n",
    "    num = group['Torque']*group['RPM (1/s)'] / (group['FlowRate (kg/hr)']*group['DetMRT']*(group['Vol free']/group['Vol max']))\n",
    "    ax.scatter(group['L/S Ratio']*group['Binder Viscosity (mPa.s)'] / 0.001, num,label=val)\n",
    "plt.xlabel('L/S Ratio x relative Viscosity')\n",
    "plt.ylabel('Energy per unit time per unit mass')\n",
    "plt.xscale(\"log\")\n",
    "plt.yscale(\"log\")\n",
    "plt.xlim([1e-1,1000])\n",
    "plt.xticks([1e-1,1e0,1e1,1e2])\n",
    "ax.legend(bbox_to_anchor=(0., 1.02, 1., .102), loc='lower left',\n",
    "           ncol=2, mode=\"expand\", borderaxespad=0.)"
   ]
  },
  {
   "cell_type": "code",
   "execution_count": null,
   "metadata": {},
   "outputs": [],
   "source": []
  }
 ]
}